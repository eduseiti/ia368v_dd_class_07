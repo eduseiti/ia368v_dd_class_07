{
  "cells": [
    {
      "cell_type": "markdown",
      "metadata": {
        "id": "view-in-github",
        "colab_type": "text"
      },
      "source": [
        "<a href=\"https://colab.research.google.com/github/eduseiti/ia368v_dd_class_07/blob/main/exhaustive_search.ipynb\" target=\"_parent\"><img src=\"https://colab.research.google.com/assets/colab-badge.svg\" alt=\"Open In Colab\"/></a>"
      ]
    },
    {
      "cell_type": "code",
      "execution_count": null,
      "id": "0f199bdb",
      "metadata": {
        "id": "0f199bdb"
      },
      "outputs": [],
      "source": [
        "import torch\n",
        "import numpy as np\n",
        "import pickle\n",
        "\n",
        "import os"
      ]
    },
    {
      "cell_type": "code",
      "execution_count": null,
      "id": "a7c8dad6",
      "metadata": {
        "id": "a7c8dad6"
      },
      "outputs": [],
      "source": [
        "from datetime import datetime"
      ]
    },
    {
      "cell_type": "code",
      "execution_count": null,
      "id": "94a02f67",
      "metadata": {
        "id": "94a02f67"
      },
      "outputs": [],
      "source": [
        "import pandas as pd"
      ]
    },
    {
      "cell_type": "code",
      "execution_count": null,
      "id": "e2ee45de",
      "metadata": {
        "id": "e2ee45de"
      },
      "outputs": [],
      "source": [
        "# RESULT_FILE=\"trec_covid_encoded_data_checkpoint_20230416_230224_0.0495.pkl\"\n",
        "# RESULT_FILE=\"trec_covid_encoded_data_checkpoint_20230417_153108_0.0491.pkl\"\n",
        "RESULT_FILE=\"trec_covid_encoded_data_checkpoint_20230418_050008_0.0294.pkl\""
      ]
    },
    {
      "cell_type": "code",
      "execution_count": null,
      "id": "105b34e8",
      "metadata": {
        "id": "105b34e8"
      },
      "outputs": [],
      "source": [
        "class TextToEncodeDataset(torch.utils.data.Dataset):\n",
        "\n",
        "    def __init__(self, texts_list, tokenizer, max_length=None):\n",
        "\n",
        "        self.max_length = max_length\n",
        "\n",
        "        self.tokenized_texts = tokenizer(texts_list, \n",
        "                                         truncation=True, \n",
        "                                         return_overflowing_tokens=True, \n",
        "                                         max_length=max_length, \n",
        "                                         return_length=True)\n",
        "        \n",
        "        self.original_length = len(texts_list)\n",
        "        self.length_stats = stats.describe(self.tokenized_texts['length'])\n",
        "\n",
        "        print(\"Text tokens size stats:\\n{}\\n\".format(self.length_stats))\n",
        "\n",
        "        if (max_length is not None) and 'overflow_to_sample_mapping' in self.tokenized_texts:\n",
        "            if self.original_length < len(self.tokenized_texts['overflow_to_sample_mapping']):\n",
        "                print(\"Added {} overflowing texts...\".format(len(self.tokenized_texts['overflow_to_sample_mapping']) - self.original_length))\n",
        "\n",
        "\n",
        "    def __len__(self):\n",
        "        return len(self.tokenized_texts['input_ids'])\n",
        "\n",
        "\n",
        "    def __getitem__(self, index):\n",
        "        return {'input_ids': self.tokenized_texts['input_ids'][index],\n",
        "                'attention_mask': self.tokenized_texts['attention_mask'][index]}\n",
        "\n",
        "    def get_original_index(self, tokenized_documents_indexes):\n",
        "        if 'overflow_to_sample_mapping' in self.tokenized_texts:\n",
        "            return np.array(self.tokenized_texts['overflow_to_sample_mapping'])[tokenized_documents_indexes]"
      ]
    },
    {
      "cell_type": "code",
      "execution_count": null,
      "id": "6797b6ba",
      "metadata": {
        "id": "6797b6ba"
      },
      "outputs": [],
      "source": [
        "with open(RESULT_FILE, \"rb\") as inputFile:\n",
        "    encoded_data = pickle.load(inputFile)"
      ]
    },
    {
      "cell_type": "code",
      "execution_count": null,
      "id": "dc839cf2",
      "metadata": {
        "id": "dc839cf2",
        "outputId": "fbf856c7-9386-4366-c88e-60a9632df31e"
      },
      "outputs": [
        {
          "data": {
            "text/plain": [
              "dict_keys(['encoded_queries', 'encoded_corpus', 'queries_dataset', 'corpus_dataset'])"
            ]
          },
          "execution_count": 7,
          "metadata": {},
          "output_type": "execute_result"
        }
      ],
      "source": [
        "encoded_data.keys()"
      ]
    },
    {
      "cell_type": "code",
      "execution_count": null,
      "id": "824a73d7",
      "metadata": {
        "id": "824a73d7",
        "outputId": "867f29ef-0a82-4a5a-dc41-9acbb6042dc9"
      },
      "outputs": [
        {
          "data": {
            "text/plain": [
              "(50, 384)"
            ]
          },
          "execution_count": 8,
          "metadata": {},
          "output_type": "execute_result"
        }
      ],
      "source": [
        "encoded_data['encoded_queries'].shape"
      ]
    },
    {
      "cell_type": "code",
      "execution_count": null,
      "id": "2a498a67",
      "metadata": {
        "id": "2a498a67",
        "outputId": "51d2bb7a-1ecd-4f6d-c8e5-07f5c7c812c8"
      },
      "outputs": [
        {
          "data": {
            "text/plain": [
              "(182372, 384)"
            ]
          },
          "execution_count": 9,
          "metadata": {},
          "output_type": "execute_result"
        }
      ],
      "source": [
        "encoded_data['encoded_corpus'].shape"
      ]
    },
    {
      "cell_type": "code",
      "execution_count": null,
      "id": "c02db9ba",
      "metadata": {
        "id": "c02db9ba",
        "outputId": "30c1e2b1-914c-46d9-f0e3-dfa7ae95f0f1"
      },
      "outputs": [
        {
          "name": "stdout",
          "output_type": "stream",
          "text": [
            "cuda\n"
          ]
        }
      ],
      "source": [
        "device = torch.device('cuda' if torch.cuda.is_available() else 'cpu')\n",
        "\n",
        "print(device)"
      ]
    },
    {
      "cell_type": "code",
      "execution_count": null,
      "id": "f66751d2",
      "metadata": {
        "id": "f66751d2"
      },
      "outputs": [],
      "source": [
        "encoded_queries = torch.from_numpy(encoded_data['encoded_queries'])\n",
        "encoded_corpus = torch.from_numpy(encoded_data['encoded_corpus'])\n",
        "corpus_to_encode = encoded_data['corpus_dataset']"
      ]
    },
    {
      "cell_type": "code",
      "execution_count": null,
      "id": "0041e063",
      "metadata": {
        "id": "0041e063",
        "outputId": "61b16615-0411-4542-d882-d40520682ba3"
      },
      "outputs": [
        {
          "data": {
            "text/plain": [
              "tensor([[-0.7183,  0.1911, -0.5156,  ..., -0.0823,  0.0640, -0.3524],\n",
              "        [-0.1416,  0.5256, -0.0711,  ...,  0.4958, -0.1396,  0.1306],\n",
              "        [-0.6621,  0.3241, -0.1063,  ...,  0.6668, -0.1499,  0.0558],\n",
              "        ...,\n",
              "        [-0.6558,  0.1820, -0.5903,  ...,  0.1376,  0.0290,  0.0267],\n",
              "        [-0.2587,  0.0220, -0.6069,  ...,  0.0166,  0.0696, -0.1629],\n",
              "        [-0.1113,  0.0995, -0.0934,  ...,  0.3468, -0.1816, -0.0892]],\n",
              "       device='cuda:0')"
            ]
          },
          "execution_count": 13,
          "metadata": {},
          "output_type": "execute_result"
        }
      ],
      "source": [
        "encoded_queries.to(device)\n",
        "encoded_corpus.to(device)"
      ]
    },
    {
      "cell_type": "code",
      "execution_count": null,
      "id": "dddbb0cd",
      "metadata": {
        "id": "dddbb0cd",
        "outputId": "1d9d944c-cb52-4cdb-c8b8-73d85afaad0f"
      },
      "outputs": [
        {
          "data": {
            "text/plain": [
              "torch.Size([50, 384])"
            ]
          },
          "execution_count": 19,
          "metadata": {},
          "output_type": "execute_result"
        }
      ],
      "source": [
        "encoded_queries.shape"
      ]
    },
    {
      "cell_type": "code",
      "execution_count": null,
      "id": "09a4c547",
      "metadata": {
        "id": "09a4c547",
        "outputId": "0e110f67-42d9-4687-d6be-586e4f247298"
      },
      "outputs": [
        {
          "data": {
            "text/plain": [
              "torch.Size([182372, 384])"
            ]
          },
          "execution_count": 20,
          "metadata": {},
          "output_type": "execute_result"
        }
      ],
      "source": [
        "encoded_corpus.shape"
      ]
    },
    {
      "cell_type": "code",
      "execution_count": null,
      "id": "a959c0e7",
      "metadata": {
        "id": "a959c0e7"
      },
      "outputs": [],
      "source": [
        "all_scores = torch.mm(encoded_queries, encoded_corpus.t())"
      ]
    },
    {
      "cell_type": "code",
      "execution_count": null,
      "id": "5517358e",
      "metadata": {
        "id": "5517358e",
        "outputId": "4a7bf18b-b144-4515-ae05-150b02a92e21"
      },
      "outputs": [
        {
          "data": {
            "text/plain": [
              "torch.Size([50, 182372])"
            ]
          },
          "execution_count": 15,
          "metadata": {},
          "output_type": "execute_result"
        }
      ],
      "source": [
        "all_scores.shape"
      ]
    },
    {
      "cell_type": "code",
      "execution_count": null,
      "id": "c01368c5",
      "metadata": {
        "id": "c01368c5",
        "outputId": "172666b3-ae9d-41a2-a494-739f35b44c0a"
      },
      "outputs": [
        {
          "data": {
            "text/plain": [
              "tensor([56.7614, 53.4069, 56.4023,  ..., 58.6083, 63.8573, 67.1564])"
            ]
          },
          "execution_count": 16,
          "metadata": {},
          "output_type": "execute_result"
        }
      ],
      "source": [
        "all_scores[0]"
      ]
    },
    {
      "cell_type": "code",
      "execution_count": null,
      "id": "84e5866a",
      "metadata": {
        "id": "84e5866a"
      },
      "outputs": [],
      "source": [
        "all_scores_descending_indexes = torch.argsort(all_scores, dim=1, descending=True)"
      ]
    },
    {
      "cell_type": "code",
      "execution_count": null,
      "id": "9f1c5af0",
      "metadata": {
        "id": "9f1c5af0",
        "outputId": "ee83bffb-a708-48e5-fc76-9d39cf81c3a4"
      },
      "outputs": [
        {
          "data": {
            "text/plain": [
              "torch.Size([50, 182372])"
            ]
          },
          "execution_count": 18,
          "metadata": {},
          "output_type": "execute_result"
        }
      ],
      "source": [
        "all_scores_descending_indexes.shape"
      ]
    },
    {
      "cell_type": "code",
      "execution_count": null,
      "id": "22fb4ca6",
      "metadata": {
        "id": "22fb4ca6",
        "outputId": "645cf211-02d3-45b4-f0be-569d3dad5be3"
      },
      "outputs": [
        {
          "data": {
            "text/plain": [
              "tensor([78.1097, 77.9512, 77.7971, 77.6878, 77.6312, 77.6312, 77.6091, 77.5471,\n",
              "        77.5236, 77.2872])"
            ]
          },
          "execution_count": 21,
          "metadata": {},
          "output_type": "execute_result"
        }
      ],
      "source": [
        "all_scores[0][all_scores_descending_indexes[0][:10]]"
      ]
    },
    {
      "cell_type": "code",
      "execution_count": null,
      "id": "01cc06cf",
      "metadata": {
        "id": "01cc06cf"
      },
      "outputs": [],
      "source": []
    },
    {
      "cell_type": "code",
      "execution_count": null,
      "id": "e55054d2",
      "metadata": {
        "id": "e55054d2"
      },
      "outputs": [],
      "source": [
        "PYSERINI_FOLDER=\"/mnt/0060f889-4c27-409b-b0de-47f5427515e3/unicamp/ia368v_dd/pyserini\""
      ]
    },
    {
      "cell_type": "code",
      "execution_count": null,
      "id": "3d2c869a",
      "metadata": {
        "id": "3d2c869a"
      },
      "outputs": [],
      "source": [
        "PYSERINI_TEST_RUN_DPR_FILENAME_FORMAT=\"run.trec-covid_DPR_exhaustive_{}_{}.txt\"\n",
        "\n",
        "RUNS_FOLDER=\"runs\"\n",
        "\n",
        "# BEST_MODEL_CHECKPOINT=\"checkpoint_20230416_230224_0.0495\"\n",
        "BEST_MODEL_CHECKPOINT=\"checkpoint_20230417_153108_0.0491\"\n",
        "\n",
        "COMPUTE_MEAN_OF_REPEATED_DOCS=True"
      ]
    },
    {
      "cell_type": "code",
      "execution_count": null,
      "id": "f4d10f83",
      "metadata": {
        "id": "f4d10f83"
      },
      "outputs": [],
      "source": [
        "TREC_RESULT_LINE_FORMAT=\"{}\\tQ0\\t{}\\t{}\\t{}\\tminiLM_DPR\\n\"\n",
        "\n",
        "test_timestamp = datetime.now().strftime(\"%Y%m%d_%H%M%S\")\n",
        "\n",
        "run_filename = os.path.join(RUNS_FOLDER, PYSERINI_TEST_RUN_DPR_FILENAME_FORMAT.format(BEST_MODEL_CHECKPOINT, test_timestamp))"
      ]
    },
    {
      "cell_type": "code",
      "execution_count": null,
      "id": "d6af0a3a",
      "metadata": {
        "id": "d6af0a3a"
      },
      "outputs": [],
      "source": [
        "TREC_COVID_MERGED_FILE=\"trec_covid_merged_data.tsv\"\n",
        "TREC_COVID_DOCUMENTS_FILE=\"trec_covid_original_title_text_merged.tsv\"\n",
        "TREC_COVID_QRELS=\"trec_covid_qrels.tsv\""
      ]
    },
    {
      "cell_type": "code",
      "execution_count": null,
      "id": "4aac2423",
      "metadata": {
        "id": "4aac2423"
      },
      "outputs": [],
      "source": [
        "trec_covid_merged_df = pd.read_csv(TREC_COVID_MERGED_FILE, sep='\\t')\n",
        "\n",
        "valid_queries_df = trec_covid_merged_df[['query-id', 'query-text']].drop_duplicates().sort_values('query-id').reset_index(drop=True)"
      ]
    },
    {
      "cell_type": "code",
      "execution_count": null,
      "id": "7fccc647",
      "metadata": {
        "id": "7fccc647"
      },
      "outputs": [],
      "source": [
        "trec_covid_corpus_df = pd.read_csv(TREC_COVID_DOCUMENTS_FILE, sep='\\t', header=None, names=['corpus-id', 'corpus-title-text'])"
      ]
    },
    {
      "cell_type": "code",
      "execution_count": null,
      "id": "3ef6641a",
      "metadata": {
        "id": "3ef6641a",
        "outputId": "12871d8c-a80b-490d-8b2d-8d83d07d1749"
      },
      "outputs": [
        {
          "data": {
            "text/plain": [
              "182372"
            ]
          },
          "execution_count": 28,
          "metadata": {},
          "output_type": "execute_result"
        }
      ],
      "source": [
        "len(corpus_to_encode.tokenized_texts['input_ids'])"
      ]
    },
    {
      "cell_type": "code",
      "execution_count": null,
      "id": "954d629c",
      "metadata": {
        "id": "954d629c",
        "outputId": "5efb367b-26fa-4961-f6a6-96124c9bea42"
      },
      "outputs": [
        {
          "data": {
            "text/plain": [
              "array([[100049,  31107, 153966, ...,  19362,  20271,  20379],\n",
              "       [ 96503, 123459,  65673, ...,  66621,   8942,  22943],\n",
              "       [132658, 119805, 111487, ...,  21539,   8942,  99309],\n",
              "       ...,\n",
              "       [ 47128, 110295,  23656, ...,  75902, 104825, 104824],\n",
              "       [140987, 118241,  58782, ...,  26673,  21205,  99309],\n",
              "       [106647, 102087, 158532, ..., 165673,  20379,  21205]])"
            ]
          },
          "execution_count": 29,
          "metadata": {},
          "output_type": "execute_result"
        }
      ],
      "source": [
        "all_scores = all_scores.cpu().numpy()\n",
        "all_scores_descending_indexes.cpu().numpy()"
      ]
    },
    {
      "cell_type": "code",
      "execution_count": null,
      "id": "99ed7b7d",
      "metadata": {
        "scrolled": true,
        "id": "99ed7b7d"
      },
      "outputs": [],
      "source": [
        "with open(run_filename, 'w') as outputFile:\n",
        "    for query_index in range(all_scores.shape[0]):\n",
        "        \n",
        "        query_scores = all_scores[query_index]\n",
        "\n",
        "#         print(\"\\n\\nQUERY {}\\n\".format(query_index))\n",
        "\n",
        "        document_descending_order = all_scores_descending_indexes[query_index][:1000]\n",
        "        tokenized_documents_ordered_indexes = document_descending_order\n",
        "\n",
        "        original_documents_ordered_indexes = corpus_to_encode.get_original_index(tokenized_documents_ordered_indexes)\n",
        "\n",
        "#         print(\"document_descending_order={}\".format(document_descending_order))\n",
        "#         print(\"original_documents_ordered_indexes={}\".format(original_documents_ordered_indexes))\n",
        "\n",
        "        remaining_query_scores = []\n",
        "        remaining_original_documents_indexes = []\n",
        "\n",
        "        if COMPUTE_MEAN_OF_REPEATED_DOCS:\n",
        "            doc_counts = np.unique(original_documents_ordered_indexes, return_counts=True)\n",
        "\n",
        "#             print(doc_counts)\n",
        "\n",
        "            if np.sum(doc_counts[1] > 1) > 0:\n",
        "                for document_index, document_count in zip(doc_counts[0], doc_counts[1]):\n",
        "\n",
        "#                     print(\"document_index={}, document_count={}\".format(document_index, document_count))\n",
        "\n",
        "                    document_pos = np.where(original_documents_ordered_indexes == document_index)[0]\n",
        "\n",
        "#                     print(document_pos)\n",
        "\n",
        "                    if document_count > 1:\n",
        "#                         print(\"{} = {}\".format(document_index, document_pos))\n",
        "#                         print(query_scores[document_descending_order[document_pos]])\n",
        "#                         print(np.mean(query_scores[document_descending_order[document_pos]]))\n",
        "\n",
        "                        remaining_query_scores.append(np.mean(query_scores[document_descending_order[document_pos]]))\n",
        "                    else:\n",
        "                        remaining_query_scores.append(query_scores[document_descending_order[document_pos]])\n",
        "\n",
        "                    remaining_original_documents_indexes.append(document_index)\n",
        "\n",
        "                # print(remaining_original_documents_indexes)\n",
        "                # print(remaining_query_scores)\n",
        "\n",
        "                query_scores = remaining_query_scores\n",
        "                document_descending_order = np.argsort(remaining_query_scores)[::-1]\n",
        "                original_documents_ordered_indexes = np.array(remaining_original_documents_indexes)[document_descending_order]\n",
        "\n",
        "                # print(\"original_documents_ordered_indexes={}\".format(original_documents_ordered_indexes))\n",
        "\n",
        "        included_docs = set()\n",
        "\n",
        "        for i, document_index in enumerate(original_documents_ordered_indexes):\n",
        "            if document_index not in included_docs:\n",
        "                included_docs.add(document_index)\n",
        "\n",
        "                outputFile.write(TREC_RESULT_LINE_FORMAT.format(valid_queries_df.iloc[query_index]['query-id'], \n",
        "                                                                trec_covid_corpus_df.iloc[document_index]['corpus-id'], \n",
        "                                                                i + 1,\n",
        "                                                                query_scores[document_descending_order[i]]))\n",
        "            else:\n",
        "                print(\"Ignoring document={} as it is already in the answers set for query={}\".format(document_index, query_index))"
      ]
    },
    {
      "cell_type": "code",
      "execution_count": null,
      "id": "5624d8dd",
      "metadata": {
        "id": "5624d8dd",
        "outputId": "5d935c93-15d1-4b90-ea51-34f8bf3f1ef1"
      },
      "outputs": [
        {
          "name": "stdout",
          "output_type": "stream",
          "text": [
            "map                   \tall\t0.0532\r\n",
            "recip_rank            \tall\t0.5791\r\n",
            "recall_1000           \tall\t0.1842\r\n",
            "ndcg_cut_10           \tall\t0.3104\r\n"
          ]
        }
      ],
      "source": [
        "!{PYSERINI_FOLDER}/tools/eval/trec_eval.9.0.4/trec_eval -c -mrecall.1000 -mmap -mndcg_cut.10 -mrecip_rank.100 \\\n",
        "    {TREC_COVID_QRELS} {run_filename}"
      ]
    },
    {
      "cell_type": "code",
      "execution_count": null,
      "id": "4277c96f",
      "metadata": {
        "id": "4277c96f"
      },
      "outputs": [],
      "source": []
    },
    {
      "cell_type": "code",
      "execution_count": null,
      "id": "beb3d702",
      "metadata": {
        "id": "beb3d702"
      },
      "outputs": [],
      "source": []
    }
  ],
  "metadata": {
    "kernelspec": {
      "display_name": "Python 3",
      "language": "python",
      "name": "python3"
    },
    "language_info": {
      "codemirror_mode": {
        "name": "ipython",
        "version": 3
      },
      "file_extension": ".py",
      "mimetype": "text/x-python",
      "name": "python",
      "nbconvert_exporter": "python",
      "pygments_lexer": "ipython3",
      "version": "3.8.16"
    },
    "colab": {
      "provenance": [],
      "include_colab_link": true
    }
  },
  "nbformat": 4,
  "nbformat_minor": 5
}